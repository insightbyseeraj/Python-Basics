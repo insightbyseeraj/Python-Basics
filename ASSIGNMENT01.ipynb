{
  "nbformat": 4,
  "nbformat_minor": 0,
  "metadata": {
    "colab": {
      "provenance": []
    },
    "kernelspec": {
      "name": "python3",
      "display_name": "Python 3"
    },
    "language_info": {
      "name": "python"
    }
  },
  "cells": [
    {
      "cell_type": "markdown",
      "source": [
        "#Python Basics Questions"
      ],
      "metadata": {
        "id": "O8e7ZzUeTN-5"
      }
    },
    {
      "cell_type": "markdown",
      "source": [
        "1. What is Python, and why is it popular?\n",
        "   - Python is a programming language is a formal language that is used to give instruction to computer to follow.it is a set of rules and symbols that are used for writing a program that computer follow.\n",
        "   - Python is popular due to they are easy to learn ,alot of libraries,mostly developer used ,demanding ,versatility , readability, wide in industry, active community."
      ],
      "metadata": {
        "id": "Xs5B1l6lTgYZ"
      }
    },
    {
      "cell_type": "markdown",
      "source": [
        "2. What is an interpreter in Python ?\n",
        "   - it is a translator that converts high level language to machine\n",
        "     language to understand computer.it execute the code line by line."
      ],
      "metadata": {
        "id": "kwLbQYgTVtQM"
      }
    },
    {
      "cell_type": "markdown",
      "source": [
        "3. What are pre-defined keywords in Python ?\n",
        "   - it have their special meaning and specical purpose.they are not be a\n",
        "     variable. Predefined keywords are if , True, False,break , continue etc.These have their specific purpose for execution."
      ],
      "metadata": {
        "id": "tYfJ2xmJW_X0"
      }
    },
    {
      "cell_type": "markdown",
      "source": [
        "4.  Can keywords be used as variable names ?\n",
        "    - No, keywords cannot be used as a variable name because keywords have their special meaning and purpose."
      ],
      "metadata": {
        "id": "CbMuRA7mW_wt"
      }
    },
    {
      "cell_type": "markdown",
      "source": [
        "5.  What is mutability in Python ?\n",
        "    - in mutability, object and container whose status or value can be changed after its creation. list is a type of mutability. it support item assignment which means replace one item or value by other."
      ],
      "metadata": {
        "id": "ntx566jiYbrQ"
      }
    },
    {
      "cell_type": "markdown",
      "source": [
        "6.  Why are lists mutable, but tuples are immutable ?\n",
        "    - list are mutable due to they use dynamic arrays that care flexible and can be changed.tuple support fixed value to store so they are immutable."
      ],
      "metadata": {
        "id": "b6wDFUgIapKk"
      }
    },
    {
      "cell_type": "markdown",
      "source": [
        "7. What is the difference between “==” and “is” operators in Python ?\n",
        "   - “==\" it is a comparision operator that is used for compare value btw other value for result may be true or not.\n",
        "  - “is” operators is a identity operator that is used to compare memory location of two objects."
      ],
      "metadata": {
        "id": "MOa_IRkjcPB9"
      }
    },
    {
      "cell_type": "markdown",
      "source": [
        "8. What are logical operators in Python?\n",
        "   - Logical  operator are used to perform logics.it should combine the condition or reverse that may result in boolen form means true/false. Have and , or ,not are logical operator.\n",
        "    \n"
      ],
      "metadata": {
        "id": "IRAjaH-pddVw"
      }
    },
    {
      "cell_type": "markdown",
      "source": [
        "9. What is type casting in Python ?\n",
        "   - typecasting is used to convert data type through the value.while we can execute using operator than it should we a mismatch to remove it.so type casting is used in  python.\n",
        "    - have implicit (python can understand the data type)\n",
        "    - explicit(can change the data type to other inbuilt function. we can change number to other data type but character cannot change any other data type)"
      ],
      "metadata": {
        "id": "J3Y0XNq0fNNg"
      }
    },
    {
      "cell_type": "markdown",
      "source": [
        "10. What is the difference between implicit and explicit type casting ?\n",
        "   - implicit (python can understand the data type. those variable we can  give value i.e. number , character , complex number etc. python can easily understand and declare the data type through implicit type casting)\n",
        "#   - explicit(can change the data type to other inbuilt function. we can change number to other data type but character cannot change any other data type)"
      ],
      "metadata": {
        "id": "whS5rbllgWj4"
      }
    },
    {
      "cell_type": "markdown",
      "source": [
        "11. What is the purpose of conditional statements in Python ?\n",
        "    - the purpose is to execute the code when the conditions is true than if condition print untill else condition print when it may be false. in real life, there are multiple conditions on the basis of this conditional statement used."
      ],
      "metadata": {
        "id": "3zHAQCuqiyHv"
      }
    },
    {
      "cell_type": "markdown",
      "source": [
        "12. How does the elif statement work ?\n",
        "    - it can be work when multiple condition occurs so in it check first condtion not true go to other than apply elif that are not true than again apply elif condition. multiple time we can do this to make decision  on different conditions.\n"
      ],
      "metadata": {
        "id": "_QGJt9NGjo0q"
      }
    },
    {
      "cell_type": "markdown",
      "source": [
        " 13. What is the difference between for and while loops ?\n",
        "     - for loop  >>iterate the sequence one by one.\n",
        "     - while loops >> repeatedly execute the block of code untill the condition is met or becomes false."
      ],
      "metadata": {
        "id": "3SU78GE7k_RD"
      }
    },
    {
      "cell_type": "markdown",
      "source": [
        "14. Describe a scenario where a while loop is more suitable than a for loop?\n",
        "    - suppose we can ask user to enter password repeat untill they get right.i don't know how much time the user write wrong password . thats time while loop is suitable than a for loop because for loop are used when we know how much time to repeat."
      ],
      "metadata": {
        "id": "IlEGJX8BljIq"
      }
    },
    {
      "cell_type": "markdown",
      "source": [
        "#Practical Questions"
      ],
      "metadata": {
        "id": "5p88DePeoj-c"
      }
    },
    {
      "cell_type": "code",
      "source": [
        "#1. Write a Python program to print \"Hello, World!\n",
        "print(\"Hello, World!\")\n"
      ],
      "metadata": {
        "colab": {
          "base_uri": "https://localhost:8080/"
        },
        "id": "uStvgnHRom8n",
        "outputId": "81d8ec98-4d34-4532-d525-462929c90933"
      },
      "execution_count": null,
      "outputs": [
        {
          "output_type": "stream",
          "name": "stdout",
          "text": [
            "Hello, World!\n"
          ]
        }
      ]
    },
    {
      "cell_type": "code",
      "source": [
        "#2. Write a Python program that displays your name and age\n",
        "name=\"Seeraj Dogra\"\n",
        "age=20\n",
        "print(\"My name is :\",name)\n",
        "print(\"My age is :\",age)"
      ],
      "metadata": {
        "colab": {
          "base_uri": "https://localhost:8080/"
        },
        "id": "rBvujz7Ro7gk",
        "outputId": "9a476b3a-0607-457b-8658-c6a04f523427"
      },
      "execution_count": null,
      "outputs": [
        {
          "output_type": "stream",
          "name": "stdout",
          "text": [
            "My name is : Seeraj Dogra\n",
            "My age is : 20\n"
          ]
        }
      ]
    },
    {
      "cell_type": "code",
      "source": [
        "#3. Write code to print all the pre-defined keywords in Python using the keyword library\n",
        "help('keywords')\n"
      ],
      "metadata": {
        "colab": {
          "base_uri": "https://localhost:8080/"
        },
        "id": "OEkBtgYgpNpJ",
        "outputId": "1f391c9d-d3e7-4cf5-e859-e191b49f3299"
      },
      "execution_count": null,
      "outputs": [
        {
          "output_type": "stream",
          "name": "stdout",
          "text": [
            "\n",
            "Here is a list of the Python keywords.  Enter any keyword to get more help.\n",
            "\n",
            "False               class               from                or\n",
            "None                continue            global              pass\n",
            "True                def                 if                  raise\n",
            "and                 del                 import              return\n",
            "as                  elif                in                  try\n",
            "assert              else                is                  while\n",
            "async               except              lambda              with\n",
            "await               finally             nonlocal            yield\n",
            "break               for                 not                 \n",
            "\n"
          ]
        }
      ]
    },
    {
      "cell_type": "code",
      "source": [
        "#4. Write a program that checks if a given word is a Python keyword.\n",
        "import keyword\n",
        "word=input()\n",
        "if word in keyword.kwlist:\n",
        "  print(\"it is a keyword\")\n",
        "else:\n",
        "  print(\"it is not a keyword\")"
      ],
      "metadata": {
        "colab": {
          "base_uri": "https://localhost:8080/"
        },
        "id": "owUA7pS3pRCI",
        "outputId": "2b2236a3-62a6-4559-d00c-7c8e54cabf4a"
      },
      "execution_count": null,
      "outputs": [
        {
          "output_type": "stream",
          "name": "stdout",
          "text": [
            "if\n",
            "it is a keyword\n"
          ]
        }
      ]
    },
    {
      "cell_type": "code",
      "source": [
        "#5. Create a list and tuple in Python, and demonstrate how attempting to change an element works differently\n",
        "# for each.\n",
        "list=[1,2,3,4,5]\n",
        "tuple=(1,2,3,4,5)\n",
        "list[1]=3\n",
        "print(list)\n",
        "\n"
      ],
      "metadata": {
        "colab": {
          "base_uri": "https://localhost:8080/"
        },
        "id": "l1y6U6rjpYQ0",
        "outputId": "dcc8e7a6-be03-4e39-9ec1-c1715405706f"
      },
      "execution_count": null,
      "outputs": [
        {
          "output_type": "stream",
          "name": "stdout",
          "text": [
            "[1, 3, 3, 4, 5]\n"
          ]
        }
      ]
    },
    {
      "cell_type": "code",
      "source": [
        "#tuples are immutable data type so its value cannot be change.\n",
        "tuple[1]=3\n",
        "print(tuple)"
      ],
      "metadata": {
        "colab": {
          "base_uri": "https://localhost:8080/",
          "height": 176
        },
        "id": "ZOUHrUt0xzxl",
        "outputId": "4007992f-ab21-4946-db21-232d762be908"
      },
      "execution_count": 16,
      "outputs": [
        {
          "output_type": "error",
          "ename": "TypeError",
          "evalue": "'type' object does not support item assignment",
          "traceback": [
            "\u001b[0;31m---------------------------------------------------------------------------\u001b[0m",
            "\u001b[0;31mTypeError\u001b[0m                                 Traceback (most recent call last)",
            "\u001b[0;32m/tmp/ipython-input-16-3588101449.py\u001b[0m in \u001b[0;36m<cell line: 0>\u001b[0;34m()\u001b[0m\n\u001b[1;32m      1\u001b[0m \u001b[0;31m#tuples are immutable data type so its value cannot be change.\u001b[0m\u001b[0;34m\u001b[0m\u001b[0;34m\u001b[0m\u001b[0m\n\u001b[0;32m----> 2\u001b[0;31m \u001b[0mtuple\u001b[0m\u001b[0;34m[\u001b[0m\u001b[0;36m1\u001b[0m\u001b[0;34m]\u001b[0m\u001b[0;34m=\u001b[0m\u001b[0;36m3\u001b[0m\u001b[0;34m\u001b[0m\u001b[0;34m\u001b[0m\u001b[0m\n\u001b[0m\u001b[1;32m      3\u001b[0m \u001b[0mprint\u001b[0m\u001b[0;34m(\u001b[0m\u001b[0mtuple\u001b[0m\u001b[0;34m)\u001b[0m\u001b[0;34m\u001b[0m\u001b[0;34m\u001b[0m\u001b[0m\n",
            "\u001b[0;31mTypeError\u001b[0m: 'type' object does not support item assignment"
          ]
        }
      ]
    },
    {
      "cell_type": "code",
      "source": [
        "#6. Write a function to demonstrate the behavior of mutable and immutable arguments.\n",
        "#mutable arguments\n",
        "a=[1,2,3.2,4+9j,\"ram\"]\n",
        "a[1]=\"sohan\"\n",
        "print(a)\n"
      ],
      "metadata": {
        "colab": {
          "base_uri": "https://localhost:8080/"
        },
        "id": "gcBMS9KMph3S",
        "outputId": "decb3823-47ab-43cf-d3c4-af44c0ca4799"
      },
      "execution_count": null,
      "outputs": [
        {
          "output_type": "stream",
          "name": "stdout",
          "text": [
            "[1, 'sohan', 3.2, (4+9j), 'ram']\n"
          ]
        }
      ]
    },
    {
      "cell_type": "code",
      "source": [
        "#immutable arguments\n",
        "a=\"ram\"\n",
        "a[0]=\"k\"\n",
        "print(a)"
      ],
      "metadata": {
        "colab": {
          "base_uri": "https://localhost:8080/",
          "height": 193
        },
        "id": "eO_8r2_Wywrc",
        "outputId": "47703114-4a6a-4916-9712-158fa41996bd"
      },
      "execution_count": 18,
      "outputs": [
        {
          "output_type": "error",
          "ename": "TypeError",
          "evalue": "'str' object does not support item assignment",
          "traceback": [
            "\u001b[0;31m---------------------------------------------------------------------------\u001b[0m",
            "\u001b[0;31mTypeError\u001b[0m                                 Traceback (most recent call last)",
            "\u001b[0;32m/tmp/ipython-input-18-3403977150.py\u001b[0m in \u001b[0;36m<cell line: 0>\u001b[0;34m()\u001b[0m\n\u001b[1;32m      1\u001b[0m \u001b[0;31m#immutable arguments\u001b[0m\u001b[0;34m\u001b[0m\u001b[0;34m\u001b[0m\u001b[0m\n\u001b[1;32m      2\u001b[0m \u001b[0ma\u001b[0m\u001b[0;34m=\u001b[0m\u001b[0;34m\"ram\"\u001b[0m\u001b[0;34m\u001b[0m\u001b[0;34m\u001b[0m\u001b[0m\n\u001b[0;32m----> 3\u001b[0;31m \u001b[0ma\u001b[0m\u001b[0;34m[\u001b[0m\u001b[0;36m0\u001b[0m\u001b[0;34m]\u001b[0m\u001b[0;34m=\u001b[0m\u001b[0;34m\"k\"\u001b[0m\u001b[0;34m\u001b[0m\u001b[0;34m\u001b[0m\u001b[0m\n\u001b[0m\u001b[1;32m      4\u001b[0m \u001b[0mprint\u001b[0m\u001b[0;34m(\u001b[0m\u001b[0ma\u001b[0m\u001b[0;34m)\u001b[0m\u001b[0;34m\u001b[0m\u001b[0;34m\u001b[0m\u001b[0m\n",
            "\u001b[0;31mTypeError\u001b[0m: 'str' object does not support item assignment"
          ]
        }
      ]
    },
    {
      "cell_type": "code",
      "source": [
        "#7. Write a program that performs basic arithmetic operations on two user-input numbers.\n",
        "a=int(input(\"Enter the value of a :\"))\n",
        "b=int(input(\"Enter the value of b :\"))\n",
        "print(a+b)\n",
        "print(a*b)\n",
        "print(a/b)\n",
        "print(a-b)"
      ],
      "metadata": {
        "colab": {
          "base_uri": "https://localhost:8080/"
        },
        "id": "5zymJOVqy7wu",
        "outputId": "cb414f29-4f3c-4bd9-94dc-dc68890a4154"
      },
      "execution_count": 17,
      "outputs": [
        {
          "output_type": "stream",
          "name": "stdout",
          "text": [
            "Enter the value of a :4\n",
            "Enter the value of b :5\n",
            "9\n",
            "20\n",
            "0.8\n",
            "-1\n"
          ]
        }
      ]
    },
    {
      "cell_type": "code",
      "source": [
        "#8. Write a program to demonstrate the use of logical operators\n",
        "score=90\n",
        "standard=\"12\"\n",
        "if((score==90)and(standard==\"12\")):\n",
        "  print(\"true\")\n",
        "else:\n",
        "  print(\"false\")"
      ],
      "metadata": {
        "colab": {
          "base_uri": "https://localhost:8080/"
        },
        "id": "dbc_LHChzgef",
        "outputId": "944fcf2f-f263-4913-8255-e3af080e2e46"
      },
      "execution_count": null,
      "outputs": [
        {
          "output_type": "stream",
          "name": "stdout",
          "text": [
            "true\n"
          ]
        }
      ]
    },
    {
      "cell_type": "code",
      "source": [
        "#9. Write a Python program to convert user input from string to integer, float, and boolean types.\n",
        "user_input=input(\"Enter by the user :\")\n",
        "print(int(user_input))\n",
        "print(float(user_input))\n",
        "print(bool(user_input))\n"
      ],
      "metadata": {
        "colab": {
          "base_uri": "https://localhost:8080/"
        },
        "id": "ofIl6QQf1_f3",
        "outputId": "45e35521-1834-4a48-d49d-475ed1770139"
      },
      "execution_count": null,
      "outputs": [
        {
          "output_type": "stream",
          "name": "stdout",
          "text": [
            "Enter by the user :88\n",
            "88\n",
            "88.0\n",
            "True\n"
          ]
        }
      ]
    },
    {
      "cell_type": "code",
      "source": [
        "#10. Write code to demonstrate type casting with list elements.\n",
        "a=[1,2,3.4,5+8j,\"seeraj\"]\n",
        "type(a)\n",
        "a[0]=2.2\n",
        "print(type(a[0]))\n",
        "print((type(float(a[1]))))\n",
        "print(type(str(a[0])))"
      ],
      "metadata": {
        "colab": {
          "base_uri": "https://localhost:8080/"
        },
        "id": "2meIeGZ73PBN",
        "outputId": "1f6a9f68-f5bd-42d9-d5ce-54f4c4260a5c"
      },
      "execution_count": null,
      "outputs": [
        {
          "output_type": "stream",
          "name": "stdout",
          "text": [
            "<class 'float'>\n",
            "<class 'float'>\n",
            "<class 'str'>\n"
          ]
        }
      ]
    },
    {
      "cell_type": "code",
      "source": [
        "#11. Write a program that checks if a number is positive, negative, or zero.\n",
        "a=int(input(\"enter any number : \"))\n",
        "if (a>0):\n",
        "  print(\"positive\")\n",
        "elif (a==0):\n",
        "  print(\"zero\")\n",
        "else:\n",
        "  print(\"negative\")"
      ],
      "metadata": {
        "colab": {
          "base_uri": "https://localhost:8080/"
        },
        "id": "hqAYBbpU5A2f",
        "outputId": "a3dd5add-91a3-4708-da5e-c6c50d87342c"
      },
      "execution_count": null,
      "outputs": [
        {
          "output_type": "stream",
          "name": "stdout",
          "text": [
            "enter any number : 0\n",
            "negative\n"
          ]
        }
      ]
    },
    {
      "cell_type": "code",
      "source": [
        "#12. Write a for loop to print numbers from 1 to 10\n",
        "for i in range(1,11):\n",
        "   print(i)"
      ],
      "metadata": {
        "id": "XKNxKMgI6ZCZ",
        "colab": {
          "base_uri": "https://localhost:8080/"
        },
        "outputId": "671f05d7-60c2-461b-ca66-a47dddc6b3f8"
      },
      "execution_count": null,
      "outputs": [
        {
          "output_type": "stream",
          "name": "stdout",
          "text": [
            "1\n",
            "2\n",
            "3\n",
            "4\n",
            "5\n",
            "6\n",
            "7\n",
            "8\n",
            "9\n",
            "10\n"
          ]
        }
      ]
    },
    {
      "cell_type": "code",
      "source": [
        "#13. Write a Python program to find the sum of all even numbers between 1 and 50.\n",
        "even_sum=0\n",
        "a=1\n",
        "while a<=50:\n",
        "  if a%2==0:\n",
        "   even_sum+=a\n",
        "  a+=1\n",
        "print(\"Sum of all even number :\",even_sum)"
      ],
      "metadata": {
        "id": "ajn5gCoCE-c4",
        "colab": {
          "base_uri": "https://localhost:8080/"
        },
        "outputId": "731f1b5b-90ec-48b8-8410-eaa82719543b"
      },
      "execution_count": null,
      "outputs": [
        {
          "output_type": "stream",
          "name": "stdout",
          "text": [
            "Sum of all even number : 650\n"
          ]
        }
      ]
    },
    {
      "cell_type": "code",
      "source": [
        "#14. Write a program to reverse a string using a while loop.\n",
        "a=\"seeraj\"\n",
        "b=len(a)-1\n",
        "c=\"\"\n",
        "while b>=0:\n",
        "  c+=a[b]\n",
        "  b-=1\n",
        "print(\"reverse string : \",c)\n"
      ],
      "metadata": {
        "colab": {
          "base_uri": "https://localhost:8080/"
        },
        "id": "NKdPnOrbD-Iw",
        "outputId": "04be2cf9-4721-4b75-cba0-c01e5d60d4b4"
      },
      "execution_count": 5,
      "outputs": [
        {
          "output_type": "stream",
          "name": "stdout",
          "text": [
            "reverse string :  jarees\n"
          ]
        }
      ]
    },
    {
      "cell_type": "code",
      "source": [
        "#15. Write a Python program to calculate the factorial of a number provided by the user using a while loop.\n",
        "fact_name= int(input(\"Enter the number :\"))\n",
        "value=1\n",
        "result=1\n",
        "while value<=fact_name:\n",
        "  result*=value\n",
        "  value+=1\n",
        "print(\"factorial no. result is :\",result)"
      ],
      "metadata": {
        "colab": {
          "base_uri": "https://localhost:8080/"
        },
        "id": "fOhP1To9ZbwV",
        "outputId": "fc793492-6209-4b5b-e985-a5f0eb8e55a9"
      },
      "execution_count": 15,
      "outputs": [
        {
          "output_type": "stream",
          "name": "stdout",
          "text": [
            "Enter the number :5\n",
            "factorial no. result is : 120\n"
          ]
        }
      ]
    }
  ]
}