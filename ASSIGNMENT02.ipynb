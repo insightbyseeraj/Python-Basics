{
  "nbformat": 4,
  "nbformat_minor": 0,
  "metadata": {
    "colab": {
      "provenance": []
    },
    "kernelspec": {
      "name": "python3",
      "display_name": "Python 3"
    },
    "language_info": {
      "name": "python"
    }
  },
  "cells": [
    {
      "cell_type": "markdown",
      "source": [
        "# Data Types and Structures Questions"
      ],
      "metadata": {
        "id": "3U6lv4raoI0W"
      }
    },
    {
      "cell_type": "markdown",
      "source": [
        "#1 What are data structures, and why are they important?\n",
        "   - Data structures are the way of storing and  managing data.eg. list,string , array, tuples, set.\n",
        "   - They are important due to accessed and manipulate efficiently."
      ],
      "metadata": {
        "id": "gMb-8ZhBoSqg"
      }
    },
    {
      "cell_type": "markdown",
      "source": [
        "# 2  Explain the difference between mutable and immutable data types with examples?\n",
        "  - Mutable data types - These are those data types whose element we can add,remove on same string.In mutable data type, object whose element should we change after they were created. eg. list,set,dict.\n",
        "  - Immutable data types - These are those data types whose element we can't add , remove on same string.In immutable data type, object whose element should not be changed after they were created. eg. string , tuple."
      ],
      "metadata": {
        "id": "uvBmM2V3pGrF"
      }
    },
    {
      "cell_type": "markdown",
      "source": [
        "#3 What are the main differences between lists and tuples in Python?\n",
        "   - Lists- It can store anything in it. it store heterogeneous data. it is a ordered collection of element.it also a mutable data type.\n",
        "  - Tuples- Tuples is a unordered collection of data.it can store heterogeneous data. it cannot store duplicate data. it provide result is unique.it also a mutable data type."
      ],
      "metadata": {
        "id": "EmdNAJnzpGoF"
      }
    },
    {
      "cell_type": "markdown",
      "source": [
        "#4 Describe how dictionaries store data?\n",
        "   - Dictionaries is a data structure that stores data in a key values format.it is a mutable data type. keys are unique and are immutable."
      ],
      "metadata": {
        "id": "3TtCHWRWpGmN"
      }
    },
    {
      "cell_type": "markdown",
      "source": [
        "#5 Why might you use a set instead of a list in Python?\n",
        "   - List is a mutable data type and set is a immutable data type.so list we can change elements but in set we cannot. so basically set only store data .those data we can store it should not be changable. eg atm card number, employee id, student id etc it should be fixed not be changable . so instead of list we use set to store data permanently.\n",
        "   "
      ],
      "metadata": {
        "id": "HTBPwThdpGkL"
      }
    },
    {
      "cell_type": "markdown",
      "source": [
        "#6 What is a string in Python, and how is it different from a list?\n",
        "   - Strings is a sequence of character. it can represent and manipulate textual data. it is immutable data type means it cannot changed after creation.while list are mutable data type means can change after creation and can store elements of any of data types ."
      ],
      "metadata": {
        "id": "sk25nUfzpGiM"
      }
    },
    {
      "cell_type": "markdown",
      "source": [
        "#7  How do tuples ensure data integrity in Python ?\n",
        "    - Because tuples are immutable data types. It means that after creation we cannot change data. So tuples ensure data integrity in Python."
      ],
      "metadata": {
        "id": "oS_Ez7k3pGga"
      }
    },
    {
      "cell_type": "markdown",
      "source": [
        "#8 What is a hash table, and how does it relate to dictionaries in Python?\n",
        "   - Hash table has a data structure that stores data in key value pairs and uses a hash function (convert key into index)to calculate index postion where value is stored in memory.\n",
        "   - In dictionaries they also store data in key value pairs and are internally uses hash table.thats why hash table is related to dictionaries."
      ],
      "metadata": {
        "id": "nnafTtYLdKJT"
      }
    },
    {
      "cell_type": "markdown",
      "source": [
        "#9  Can lists contain different data types in Python?\n",
        "    - Yes , lists contain different data types in python."
      ],
      "metadata": {
        "id": "H4Yqiohdnqgk"
      }
    },
    {
      "cell_type": "markdown",
      "source": [
        "# 10 Explain why strings are immutable in Python?\n",
        "     - Strings are immutable data type it means that after creation of data it should not be changed because it ensure data efficiency , performance and security to data may secure. if we modify data of string new string will be created for it .so data not change by mistake . thats why strings are immutable in python."
      ],
      "metadata": {
        "id": "BKVmZ_ROn1TJ"
      }
    },
    {
      "cell_type": "markdown",
      "source": [
        "# 11 What advantages do dictionaries offer over lists for certain tasks?\n",
        "     - dictionaries donot allow duplicate key if same key will repeat than change value of key that are in last for same key.but in list data may be changed randomly to not verify which purpose.\n",
        "     - dictionaries store data for specific reason because it uses meaningfull keys rather than lists.\n"
      ],
      "metadata": {
        "id": "xjJ2985WrfcN"
      }
    },
    {
      "cell_type": "markdown",
      "source": [
        "# 12 Describe a scenario where using a tuple would be preferable over a list?\n",
        "     - We can apply for atm than fews days later our atm card ready and have number that alot for me not for other means data may be store after creation we cannot change that represent a tuple but in list it should we created after we can change data so it efficiency , performance or security may reduce due to they are mutable . so thats why tuple are preferable over list for fix data entery."
      ],
      "metadata": {
        "id": "Kcz4dXJItehn"
      }
    },
    {
      "cell_type": "markdown",
      "source": [
        "#13 How do sets handle duplicate values in Python?\n",
        "    - Sets is a data structure that can store unordered sequence of data and unique element. if duplicate values may be repeated that sets apply for provide unique result it means repeated data written only in once."
      ],
      "metadata": {
        "id": "GFN7l3LWvLxN"
      }
    },
    {
      "cell_type": "markdown",
      "source": [
        "#14 How does the “in” keyword work differently for lists and dictionaries?\n",
        "    - \"in\" keyword used in lists for know that data are present in list or not . it provide result in boolean value may be True or False based on condition.\n",
        "    - \"in\" keyword used in dictionaries ,to ensure that key are present or not if than result in boolean value may be true or false .it should not used for values of keys."
      ],
      "metadata": {
        "id": "qLNEP97WwYZI"
      }
    },
    {
      "cell_type": "markdown",
      "source": [
        "#15 Can you modify the elements of a tuple? Explain why or why not?\n",
        "    - No, we cannot modify the element of a tuple because it doesnot support item assignemnt.Due to ensure for efficieny , accuracy , performance and security. Once the data is stored it should not be changeable. it is immutable."
      ],
      "metadata": {
        "id": "qfEGJvlJyIwO"
      }
    },
    {
      "cell_type": "markdown",
      "source": [
        "#16 What is a nested dictionary, and give an example of its use case?\n",
        "    - Nested dictionary are those dictionary that can store more than one dictionary as values.\n",
        "    - eg {1:{\"ram\":1 ,\"aman\":2}}"
      ],
      "metadata": {
        "id": "yISb9BA6zeQ6"
      }
    },
    {
      "cell_type": "markdown",
      "source": [
        "#16 Describe the time complexity of accessing elements in a dictionary?\n",
        "    - The time complexity is O(1)\n",
        "    - because it directly convert key into index using a hash function.it means that we can have 10 or 10 millions items we can only apply their key once it directly convert to index to where value is stored in memory to access. single item scan."
      ],
      "metadata": {
        "id": "KF7X4m_d1fGy"
      }
    },
    {
      "cell_type": "markdown",
      "source": [
        "#18 In what situations are lists preferred over dictionaries?\n",
        "    - where we can store any element of any data type so we use lists.it is a ordered collection of data. it store heterogeneous data but in dictionaries we can  store data in key values pair for use dictionary in meaningfull description for keys."
      ],
      "metadata": {
        "id": "sqlG9gw14fUS"
      }
    },
    {
      "cell_type": "markdown",
      "source": [
        "#19 Why are dictionaries considered unordered, and how does that affect data retrieval?\n",
        "   - Dictioanries considered unordered because they store data in keys format not in position ie numercially.They also affect data retrieval because we can access values through keys not by position numerically."
      ],
      "metadata": {
        "id": "RfspAA216qo3"
      }
    },
    {
      "cell_type": "markdown",
      "source": [
        "#20 Explain the difference between a list and a dictionary in terms of data retrieval?\n",
        "    - In list, the data retrieval can access elements through index position numerically.it can accessed in ordered sequence of element.\n",
        "    - In dictionary, the data retrieval can access values through keys not by index position. Thats why it is a unordered sequence of element because it can access by key not index position."
      ],
      "metadata": {
        "id": "i60wVwR-BCOx"
      }
    },
    {
      "cell_type": "markdown",
      "source": [
        "#Practical Questions\n"
      ],
      "metadata": {
        "id": "KtDG_S2_CTbP"
      }
    },
    {
      "cell_type": "code",
      "source": [
        "#1 Write a code to create a string with your name and print it?\n",
        "name=\"seeraj dogra\"\n",
        "print(\"My name is \",name)"
      ],
      "metadata": {
        "colab": {
          "base_uri": "https://localhost:8080/"
        },
        "id": "YE8Wo_KQCmcD",
        "outputId": "cd1a563f-b958-431a-b6a6-91f08e28b06b"
      },
      "execution_count": null,
      "outputs": [
        {
          "output_type": "stream",
          "name": "stdout",
          "text": [
            "My name is  seeraj dogra\n"
          ]
        }
      ]
    },
    {
      "cell_type": "code",
      "source": [
        "#2 Write a code to find the length of the string \"Hello World\"?\n",
        "a=\"Hello World\"\n",
        "len(a)"
      ],
      "metadata": {
        "colab": {
          "base_uri": "https://localhost:8080/"
        },
        "id": "XInCTEycDZpS",
        "outputId": "99fbca8f-204b-4646-c216-d997e7057da4"
      },
      "execution_count": null,
      "outputs": [
        {
          "output_type": "execute_result",
          "data": {
            "text/plain": [
              "11"
            ]
          },
          "metadata": {},
          "execution_count": 8
        }
      ]
    },
    {
      "cell_type": "code",
      "source": [
        "#3 Write a code to slice the first 3 characters from the string \"Python Programming\"?\n",
        "a=\"Python Programming\"\n",
        "a[0:4]"
      ],
      "metadata": {
        "colab": {
          "base_uri": "https://localhost:8080/",
          "height": 36
        },
        "id": "HJeOaHbXDpnE",
        "outputId": "56b8d911-0adb-4083-842f-64a56da91ce9"
      },
      "execution_count": null,
      "outputs": [
        {
          "output_type": "execute_result",
          "data": {
            "text/plain": [
              "'Pyth'"
            ],
            "application/vnd.google.colaboratory.intrinsic+json": {
              "type": "string"
            }
          },
          "metadata": {},
          "execution_count": 10
        }
      ]
    },
    {
      "cell_type": "code",
      "source": [
        "#4  Write a code to convert the string \"hello\" to uppercase?\n",
        "a=\"hello\"\n",
        "a.upper()"
      ],
      "metadata": {
        "colab": {
          "base_uri": "https://localhost:8080/",
          "height": 36
        },
        "id": "iITkJ_7JD7RM",
        "outputId": "1394c290-b1a2-4f00-c455-2cd5d0f4f140"
      },
      "execution_count": null,
      "outputs": [
        {
          "output_type": "execute_result",
          "data": {
            "text/plain": [
              "'HELLO'"
            ],
            "application/vnd.google.colaboratory.intrinsic+json": {
              "type": "string"
            }
          },
          "metadata": {},
          "execution_count": 13
        }
      ]
    },
    {
      "cell_type": "code",
      "source": [
        "#5 Write a code to replace the word \"apple\" with \"orange\" in the string \"I like apple\"?\n",
        "a=\"I like apple\"\n",
        "a.replace(\"apple\",\"orange\")"
      ],
      "metadata": {
        "colab": {
          "base_uri": "https://localhost:8080/",
          "height": 36
        },
        "id": "q-XhrHX6EJW4",
        "outputId": "ad7ad59c-e8ba-4196-ef7f-cbc8f1956429"
      },
      "execution_count": null,
      "outputs": [
        {
          "output_type": "execute_result",
          "data": {
            "text/plain": [
              "'I like orange'"
            ],
            "application/vnd.google.colaboratory.intrinsic+json": {
              "type": "string"
            }
          },
          "metadata": {},
          "execution_count": 15
        }
      ]
    },
    {
      "cell_type": "code",
      "source": [
        "#6 Write a code to create a list with numbers 1 to 5 and print it?\n",
        "a=[1,2,3,4,5]\n",
        "print(a)"
      ],
      "metadata": {
        "colab": {
          "base_uri": "https://localhost:8080/"
        },
        "id": "AAJVQIjbJC-q",
        "outputId": "d8fdea55-a334-4bec-fe8f-25575ac26471"
      },
      "execution_count": null,
      "outputs": [
        {
          "output_type": "stream",
          "name": "stdout",
          "text": [
            "[1, 2, 3, 4, 5]\n"
          ]
        }
      ]
    },
    {
      "cell_type": "code",
      "source": [
        "#7 Write a code to append the number 10 to the list [1, 2, 3, 4]?\n",
        "list=[1,2,3,4]\n",
        "list.append(10)\n",
        "print(list)"
      ],
      "metadata": {
        "colab": {
          "base_uri": "https://localhost:8080/"
        },
        "id": "uv7jLROuJcAg",
        "outputId": "a0eb983a-391d-4781-daab-173483f9f264"
      },
      "execution_count": null,
      "outputs": [
        {
          "output_type": "stream",
          "name": "stdout",
          "text": [
            "[1, 2, 3, 4, 10]\n"
          ]
        }
      ]
    },
    {
      "cell_type": "code",
      "source": [
        "#8 Write a code to remove the number 3 from the list [1, 2, 3, 4, 5]?\n",
        "a=[1,2,3,4,5]\n",
        "a.remove(3)\n",
        "print(a)"
      ],
      "metadata": {
        "colab": {
          "base_uri": "https://localhost:8080/"
        },
        "id": "31OBwEv-JtEP",
        "outputId": "c475ca3d-e703-4ae0-ae84-d2f0a4fecf6d"
      },
      "execution_count": null,
      "outputs": [
        {
          "output_type": "stream",
          "name": "stdout",
          "text": [
            "[1, 2, 4, 5]\n"
          ]
        }
      ]
    },
    {
      "cell_type": "code",
      "source": [
        "#9 Write a code to access the second element in the list ['a', 'b', 'c', 'd']?\n",
        "a=['a','b','c','d']\n",
        "a[1]"
      ],
      "metadata": {
        "colab": {
          "base_uri": "https://localhost:8080/",
          "height": 36
        },
        "id": "IC8eBDDyJ8u7",
        "outputId": "0ba6b80c-3f1f-4227-8c78-bc4f47ace0da"
      },
      "execution_count": null,
      "outputs": [
        {
          "output_type": "execute_result",
          "data": {
            "text/plain": [
              "'b'"
            ],
            "application/vnd.google.colaboratory.intrinsic+json": {
              "type": "string"
            }
          },
          "metadata": {},
          "execution_count": 24
        }
      ]
    },
    {
      "cell_type": "code",
      "source": [
        "#10 Write a code to reverse the list [10, 20, 30, 40, 50]?\n",
        "a=[10,20,30,40,50]\n",
        "a[::-1]"
      ],
      "metadata": {
        "colab": {
          "base_uri": "https://localhost:8080/"
        },
        "id": "ZGdAEw5jKWnd",
        "outputId": "ce8ee8d6-4dde-4949-df89-7ab11c7df145"
      },
      "execution_count": null,
      "outputs": [
        {
          "output_type": "execute_result",
          "data": {
            "text/plain": [
              "[50, 40, 30, 20, 10]"
            ]
          },
          "metadata": {},
          "execution_count": 26
        }
      ]
    },
    {
      "cell_type": "code",
      "source": [
        "#11 Write a code to create a tuple with the elements 100, 200, 300 and print it?\n",
        "a=(100,200,300)\n",
        "print(a)"
      ],
      "metadata": {
        "colab": {
          "base_uri": "https://localhost:8080/"
        },
        "id": "UPRmpflEKhD5",
        "outputId": "aaa2f1e0-7b7f-4282-9a5d-1ea8c73063f5"
      },
      "execution_count": null,
      "outputs": [
        {
          "output_type": "stream",
          "name": "stdout",
          "text": [
            "(100, 200, 300)\n"
          ]
        }
      ]
    },
    {
      "cell_type": "code",
      "source": [
        " #12 Write a code to access the second-to-last element of the tuple ('red', 'green', 'blue', 'yellow')?\n",
        " a=('red','green','blue','yellow')\n",
        " a[-2]"
      ],
      "metadata": {
        "colab": {
          "base_uri": "https://localhost:8080/",
          "height": 36
        },
        "id": "MX4R-xg_K4fs",
        "outputId": "e98052c3-26d0-4762-acd2-c89885514a1c"
      },
      "execution_count": null,
      "outputs": [
        {
          "output_type": "execute_result",
          "data": {
            "text/plain": [
              "'blue'"
            ],
            "application/vnd.google.colaboratory.intrinsic+json": {
              "type": "string"
            }
          },
          "metadata": {},
          "execution_count": 32
        }
      ]
    },
    {
      "cell_type": "code",
      "source": [
        "#13 Write a code to find the minimum number in the tuple (10, 20, 5, 15)?\n",
        "a=(10,20,5,15)\n",
        "min(a)"
      ],
      "metadata": {
        "colab": {
          "base_uri": "https://localhost:8080/"
        },
        "id": "vdt9gqxkMlbD",
        "outputId": "f3cab54e-7c62-4e21-e415-cfba0694f9e1"
      },
      "execution_count": null,
      "outputs": [
        {
          "output_type": "execute_result",
          "data": {
            "text/plain": [
              "5"
            ]
          },
          "metadata": {},
          "execution_count": 35
        }
      ]
    },
    {
      "cell_type": "code",
      "source": [
        "#14 Write a code to find the index of the element \"cat\" in the tuple ('dog', 'cat', 'rabbit')?\n",
        "a=('dog','cat','rabbit')\n",
        "a.index(\"cat\")"
      ],
      "metadata": {
        "colab": {
          "base_uri": "https://localhost:8080/"
        },
        "id": "MACjGYRqM7M9",
        "outputId": "88f5a8e4-51cf-49a8-cd14-3a0c8d6b736b"
      },
      "execution_count": null,
      "outputs": [
        {
          "output_type": "execute_result",
          "data": {
            "text/plain": [
              "1"
            ]
          },
          "metadata": {},
          "execution_count": 37
        }
      ]
    },
    {
      "cell_type": "code",
      "source": [
        "#15  Write a code to create a tuple containing three different fruits and check if \"kiwi\" is in it?\n",
        "a=(\"apple\",\"mango\",\"kiwi\")\n",
        "\"kiwi\" in a"
      ],
      "metadata": {
        "colab": {
          "base_uri": "https://localhost:8080/"
        },
        "id": "O5iMZs6QNiVp",
        "outputId": "effff516-8d41-4f1b-b92f-cc93aacb2ba6"
      },
      "execution_count": null,
      "outputs": [
        {
          "output_type": "execute_result",
          "data": {
            "text/plain": [
              "True"
            ]
          },
          "metadata": {},
          "execution_count": 38
        }
      ]
    },
    {
      "cell_type": "code",
      "source": [
        "#16 Write a code to create a set with the elements 'a', 'b', 'c' and print it?\n",
        "a={'a','b','c'}\n",
        "print(a)"
      ],
      "metadata": {
        "colab": {
          "base_uri": "https://localhost:8080/"
        },
        "id": "Hec7S_2wODuv",
        "outputId": "cddb70d0-86a9-493b-fb55-294c8a8251bb"
      },
      "execution_count": null,
      "outputs": [
        {
          "output_type": "stream",
          "name": "stdout",
          "text": [
            "{'b', 'c', 'a'}\n"
          ]
        }
      ]
    },
    {
      "cell_type": "code",
      "source": [
        "#17  Write a code to clear all elements from the set {1, 2, 3, 4, 5}?\n",
        "a={1,2,3,4,5}\n",
        "a.clear()\n",
        "print(a)"
      ],
      "metadata": {
        "colab": {
          "base_uri": "https://localhost:8080/"
        },
        "id": "XEWRHKrJOd-u",
        "outputId": "d942db8f-49b7-4c0d-af94-3a3207d5eb07"
      },
      "execution_count": null,
      "outputs": [
        {
          "output_type": "stream",
          "name": "stdout",
          "text": [
            "set()\n"
          ]
        }
      ]
    },
    {
      "cell_type": "code",
      "source": [
        "#18  Write a code to remove the element 4 from the set {1, 2, 3, 4}?\n",
        "a={1,2,3,4}\n",
        "a.remove(4)\n",
        "print(a)"
      ],
      "metadata": {
        "colab": {
          "base_uri": "https://localhost:8080/"
        },
        "id": "SaPugvy4PANU",
        "outputId": "654c204f-b885-47bd-f3a6-35445f4ac642"
      },
      "execution_count": null,
      "outputs": [
        {
          "output_type": "stream",
          "name": "stdout",
          "text": [
            "{1, 2, 3}\n"
          ]
        }
      ]
    },
    {
      "cell_type": "code",
      "source": [
        "#19. Write a code to find the union of two sets {1, 2, 3} and {3, 4, 5}?\n",
        "a={1,2,3}\n",
        "b={3,4,5}\n",
        "a|b"
      ],
      "metadata": {
        "colab": {
          "base_uri": "https://localhost:8080/"
        },
        "id": "Qd78rm8XPaeH",
        "outputId": "53558661-8da5-4eef-e8ed-5d8eee79ec87"
      },
      "execution_count": null,
      "outputs": [
        {
          "output_type": "execute_result",
          "data": {
            "text/plain": [
              "{1, 2, 3, 4, 5}"
            ]
          },
          "metadata": {},
          "execution_count": 49
        }
      ]
    },
    {
      "cell_type": "code",
      "source": [
        "#20  Write a code to find the intersection of two sets {1, 2, 3} and {2, 3, 4}?\n",
        "a={1,2,3}\n",
        "b={2,3,4}\n",
        "a&b"
      ],
      "metadata": {
        "colab": {
          "base_uri": "https://localhost:8080/"
        },
        "id": "n_ADGnSrPcw5",
        "outputId": "bb7dcbce-838e-4aa3-9659-7d600fcbcc16"
      },
      "execution_count": null,
      "outputs": [
        {
          "output_type": "execute_result",
          "data": {
            "text/plain": [
              "{2, 3}"
            ]
          },
          "metadata": {},
          "execution_count": 52
        }
      ]
    },
    {
      "cell_type": "code",
      "source": [
        "#21 Write a code to create a dictionary with the keys \"name\", \"age\", and \"city\", and print it?\n",
        "a={\"name\":\"seeraj dogra\",\"age\":20,\"city\":\"Delhi\"}\n",
        "print(a)"
      ],
      "metadata": {
        "colab": {
          "base_uri": "https://localhost:8080/"
        },
        "id": "LwfWDksgPwWT",
        "outputId": "c517d1bd-37d6-456d-f9ce-ea0cfbc668d3"
      },
      "execution_count": null,
      "outputs": [
        {
          "output_type": "stream",
          "name": "stdout",
          "text": [
            "{'name': 'seeraj dogra', 'age': 20, 'city': 'Delhi'}\n"
          ]
        }
      ]
    },
    {
      "cell_type": "code",
      "source": [
        "#22 Write a code to add a new key-value pair \"country\": \"USA\" to the dictionary {'name': 'John', 'age': 25}?\n",
        "a={'name':'john','age':25}\n",
        "a[\"country\"]=\"USA\"\n",
        "print(a)"
      ],
      "metadata": {
        "colab": {
          "base_uri": "https://localhost:8080/"
        },
        "id": "oWa6JDhlP-Q3",
        "outputId": "8c216fb4-c19a-40b9-aa4d-0b24324a4680"
      },
      "execution_count": null,
      "outputs": [
        {
          "output_type": "stream",
          "name": "stdout",
          "text": [
            "{'name': 'john', 'age': 25, 'country': 'USA'}\n"
          ]
        }
      ]
    },
    {
      "cell_type": "code",
      "source": [
        "#23 Write a code to access the value associated with the key \"name\" in the dictionary {'name': 'Alice', 'age': 30}?\n",
        "a={'name':'Alice','age':30}\n",
        "a[\"name\"]"
      ],
      "metadata": {
        "colab": {
          "base_uri": "https://localhost:8080/"
        },
        "id": "NJxj3eQ_Q3SQ",
        "outputId": "01b83325-9745-400b-9630-9b0e0895d99b"
      },
      "execution_count": null,
      "outputs": [
        {
          "output_type": "execute_result",
          "data": {
            "text/plain": [
              "{'name': 'Alice', 'age': 30}"
            ]
          },
          "metadata": {},
          "execution_count": 64
        }
      ]
    },
    {
      "cell_type": "code",
      "source": [
        "#24  Write a code to remove the key \"age\" from the dictionary {'name': 'Bob', 'age': 22, 'city': 'New York'}?\n",
        "a={'name':'Bob','age':22,'city':'New York'}\n",
        "del a[\"age\"]\n",
        "a"
      ],
      "metadata": {
        "colab": {
          "base_uri": "https://localhost:8080/"
        },
        "id": "VoysdvKMQ4rw",
        "outputId": "72210a46-3d35-40d7-b747-d4b23e1d4f37"
      },
      "execution_count": null,
      "outputs": [
        {
          "output_type": "execute_result",
          "data": {
            "text/plain": [
              "{'name': 'Bob', 'city': 'New York'}"
            ]
          },
          "metadata": {},
          "execution_count": 68
        }
      ]
    },
    {
      "cell_type": "code",
      "source": [
        "#25  Write a code to check if the key \"city\" exists in the dictionary {'name': 'Alice', 'city': 'Paris'}?\n",
        "a={'name':'Alice','city':'Paris'}\n",
        "print(\"city\"in a)"
      ],
      "metadata": {
        "colab": {
          "base_uri": "https://localhost:8080/"
        },
        "id": "A2LsriaGSeMU",
        "outputId": "659686ac-cbe8-4229-bde0-d89ee4ea8887"
      },
      "execution_count": null,
      "outputs": [
        {
          "output_type": "stream",
          "name": "stdout",
          "text": [
            "True\n"
          ]
        }
      ]
    },
    {
      "cell_type": "code",
      "source": [
        "#26  Write a code to create a list, a tuple, and a dictionary, and print them all?\n",
        "a=[1,2,3,4,5]\n",
        "b=(2,3,4,5)\n",
        "c={\"a\":2,\"b\":4}\n",
        "print(a)\n",
        "print(b)\n",
        "print(c)"
      ],
      "metadata": {
        "colab": {
          "base_uri": "https://localhost:8080/"
        },
        "id": "kD5Vt_awUGze",
        "outputId": "305dfc6c-14ab-49d8-a38a-551e4f1cd7a6"
      },
      "execution_count": null,
      "outputs": [
        {
          "output_type": "stream",
          "name": "stdout",
          "text": [
            "[1, 2, 3, 4, 5]\n",
            "(2, 3, 4, 5)\n",
            "{'a': 2, 'b': 4}\n"
          ]
        }
      ]
    },
    {
      "cell_type": "code",
      "source": [
        "#27 Write a code to create a list of 5 random numbers between 1 and 100, sort it in ascending order, and print the result.(replaced)?\n",
        "import random\n",
        "a=random.sample(range(1,101),5)\n",
        "a.sort()\n",
        "print(a)"
      ],
      "metadata": {
        "colab": {
          "base_uri": "https://localhost:8080/"
        },
        "id": "Kul4IGCWVOcK",
        "outputId": "561076be-a6d1-47d9-b6e1-4e0cec76b2a1"
      },
      "execution_count": null,
      "outputs": [
        {
          "output_type": "stream",
          "name": "stdout",
          "text": [
            "[15, 31, 52, 70, 99]\n"
          ]
        }
      ]
    },
    {
      "cell_type": "code",
      "source": [
        "#28  Write a code to create a list with strings and print the element at the third index?\n",
        "a=[\"mohan\",\"rohan\",\"sohan\",\"kohli\",\"john\"]\n",
        "print(a[3])"
      ],
      "metadata": {
        "colab": {
          "base_uri": "https://localhost:8080/"
        },
        "id": "wMC_HqQQWiC5",
        "outputId": "7dcfe031-7e1b-4eca-a834-61c57cdd23b7"
      },
      "execution_count": null,
      "outputs": [
        {
          "output_type": "stream",
          "name": "stdout",
          "text": [
            "kohli\n"
          ]
        }
      ]
    },
    {
      "cell_type": "code",
      "source": [
        "#29 Write a code to combine two dictionaries into one and print the result?\n",
        "a={\"name\":\"sohan\"}\n",
        "b={\"age\":11}\n",
        "a.update(b)\n",
        "print(a)"
      ],
      "metadata": {
        "colab": {
          "base_uri": "https://localhost:8080/"
        },
        "id": "a1g5lpP7XtIA",
        "outputId": "0d4d3c3e-22d2-455c-bdf5-157f1730cfee"
      },
      "execution_count": null,
      "outputs": [
        {
          "output_type": "stream",
          "name": "stdout",
          "text": [
            "{'name': 'sohan', 'age': 11}\n"
          ]
        }
      ]
    },
    {
      "cell_type": "code",
      "source": [
        "#30 Write a code to convert a list of strings into a set?\n",
        "a=[\"ram\",\"lakhan\",\"sam\",\"om\"]\n",
        "b=set(a)\n",
        "print(b)"
      ],
      "metadata": {
        "colab": {
          "base_uri": "https://localhost:8080/"
        },
        "id": "9Ub6pHGPYb5G",
        "outputId": "d8cd8009-82b4-4af0-b12a-45eb4caa7258"
      },
      "execution_count": null,
      "outputs": [
        {
          "output_type": "stream",
          "name": "stdout",
          "text": [
            "{'lakhan', 'sam', 'om', 'ram'}\n"
          ]
        }
      ]
    },
    {
      "cell_type": "code",
      "source": [],
      "metadata": {
        "id": "-Gs7EH2jY9-B"
      },
      "execution_count": null,
      "outputs": []
    }
  ]
}